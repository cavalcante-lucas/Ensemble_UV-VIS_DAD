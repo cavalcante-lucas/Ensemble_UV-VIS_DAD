{
 "cells": [
  {
   "cell_type": "code",
   "execution_count": null,
   "metadata": {},
   "outputs": [],
   "source": [
    "#Libraries"
   ]
  },
  {
   "cell_type": "code",
   "execution_count": 1,
   "metadata": {},
   "outputs": [],
   "source": [
    "import os\n",
    "import pandas as pd\n",
    "import numpy as np\n",
    "from natsort import natsorted\n",
    "import joblib\n",
    "from tensorflow.keras.models import save_model, load_model\n",
    "from sklearn.preprocessing import LabelEncoder"
   ]
  },
  {
   "cell_type": "code",
   "execution_count": null,
   "metadata": {},
   "outputs": [],
   "source": [
    "#Path"
   ]
  },
  {
   "cell_type": "code",
   "execution_count": 12,
   "metadata": {},
   "outputs": [],
   "source": [
    "directory_path = \"*\" #Select a path"
   ]
  },
  {
   "cell_type": "code",
   "execution_count": null,
   "metadata": {},
   "outputs": [],
   "source": [
    "#############################################################################################"
   ]
  },
  {
   "cell_type": "code",
   "execution_count": null,
   "metadata": {},
   "outputs": [],
   "source": [
    "#Functions"
   ]
  },
  {
   "cell_type": "code",
   "execution_count": 3,
   "metadata": {},
   "outputs": [],
   "source": [
    "\n",
    "def clean_str_ext(directory_path):\n",
    "    # Get a list of all files in the directory\n",
    "    file_list = os.listdir(directory_path)\n",
    "    # Filter out only the .jcm files\n",
    "    jcm_files = [file for file in file_list if file.endswith(\".jcm\")]\n",
    "    # Loop through each .jcm file and remove the \"##END=\" string\n",
    "    for file_name in jcm_files:\n",
    "        file_path = os.path.join(directory_path, file_name)\n",
    "        # Read the content of the file\n",
    "        with open(file_path, 'r') as f:\n",
    "            lines = f.readlines()\n",
    "        # Remove the \"##END=\" string if it exists\n",
    "        modified_lines = [line for line in lines if \"##END=\" not in line]\n",
    "        # Write the modified content back to the file\n",
    "        with open(file_path, 'w') as f:\n",
    "            f.writelines(modified_lines)\n",
    "    print(\"Done removing ##END= from files.\")\n",
    "    \n",
    "    ##EXTRACTION##\n",
    "    jcm_files = natsorted([file for file in os.listdir(directory_path) if file.endswith(\".jcm\")])\n",
    "    # Initialize an empty DataFrame\n",
    "    final_df = pd.DataFrame(columns=['ThirdValue'])\n",
    "    # Loop through each .jcm file\n",
    "    for file_name in jcm_files:\n",
    "         file_path = os.path.join(directory_path, file_name)\n",
    "         # Read the content of the file\n",
    "         with open(file_path, 'r') as f:\n",
    "             lines = f.readlines()\n",
    "         # Extract the third values and create a pandas DataFrame\n",
    "         third_values = [\"0.\" + line.strip().split(',')[3].split()[0] for line in lines]\n",
    "         df = pd.DataFrame(third_values, columns=['ThirdValue'])\n",
    "         # Transpose the DataFrame to convert rows to columns\n",
    "         df_transposed = df.transpose()\n",
    "         # Append the transposed DataFrame to the final DataFrame\n",
    "         final_df = pd.concat([final_df, df_transposed], ignore_index=True)\n",
    "    final_df.drop('ThirdValue', axis=1, inplace=True)\n",
    "    \n",
    "    ##HEADERS##\n",
    "    with open(directory_path+'/'+jcm_files[0], 'r') as f:\n",
    "        lines = f.readlines()\n",
    "    # Extract the third values and create a pandas DataFrame\n",
    "    third_values = [float(line.split(',')[0]) for line in lines]\n",
    "    df = pd.DataFrame({'ThirdValue': third_values})\n",
    "    df_t = df.transpose()\n",
    "    headers = df_t.iloc[0]\n",
    "    final_df.rename(columns = headers, inplace = True)\n",
    "    print('Headers extracted from '+directory_path+'/'+jcm_files[0])\n",
    "    print(\"dataframe created.\")\n",
    "    return(final_df)\n",
    "\n",
    "# Derivatives\n",
    "def deriv(non_spectral_df, spectral_df):\n",
    "    # Create a new DataFrame to store the derivatives\n",
    "    derivatives_df = pd.DataFrame()\n",
    "    columns_spectral = spectral_df.columns\n",
    "\n",
    "    # Loop through each column and calculate the derivatives\n",
    "    for col_index, col_name in enumerate(spectral_df.columns):\n",
    "        col_values = spectral_df[col_name].values\n",
    "        col_first_derivative = np.gradient(col_values)\n",
    "        col_second_derivative = np.gradient(col_first_derivative)\n",
    "        derivatives_df[str(col_name) + '_1st_derivative'] = col_first_derivative\n",
    "        derivatives_df[str(col_name) + '_2nd_derivative'] = col_second_derivative\n",
    "\n",
    "    # Concatenate the original DataFrame and the derivatives DataFrame along columns\n",
    "    result_df2 = pd.concat([spectral_df, derivatives_df], axis=1)\n",
    "    result_df3 = pd.concat([non_spectral_df, result_df2], axis=1)\n",
    "    print('1st and 2nd derivatives calculated.')\n",
    "    return(result_df3)\n",
    "    \n"
   ]
  },
  {
   "cell_type": "code",
   "execution_count": null,
   "metadata": {},
   "outputs": [],
   "source": [
    "#Application"
   ]
  },
  {
   "cell_type": "code",
   "execution_count": null,
   "metadata": {},
   "outputs": [],
   "source": [
    "spectral_df = clean_str_ext(directory_path)\n",
    "spectral_df = spectral_df.apply(pd.to_numeric)\n",
    "\n",
    "#Load the non spectral matrix (i.e., instrumental params, etc.)\n",
    "non_spectral_df = pd.read_csv('*.csv',decimal=',') #*.csv -> directory and 'matrix_name.csv'\n",
    "non_spectral_df = non_spectral_df.apply(pd.to_numeric)\n",
    "\n",
    "final_df = deriv(non_spectral_df,spectral_df)"
   ]
  },
  {
   "cell_type": "code",
   "execution_count": null,
   "metadata": {},
   "outputs": [],
   "source": [
    "#saving the matrix"
   ]
  },
  {
   "cell_type": "code",
   "execution_count": null,
   "metadata": {},
   "outputs": [],
   "source": [
    "final_df.to_csv('final_df.csv', index=False)"
   ]
  },
  {
   "cell_type": "code",
   "execution_count": null,
   "metadata": {},
   "outputs": [],
   "source": []
  }
 ],
 "metadata": {
  "kernelspec": {
   "display_name": "Python 3",
   "language": "python",
   "name": "python3"
  },
  "language_info": {
   "codemirror_mode": {
    "name": "ipython",
    "version": 3
   },
   "file_extension": ".py",
   "mimetype": "text/x-python",
   "name": "python",
   "nbconvert_exporter": "python",
   "pygments_lexer": "ipython3",
   "version": "3.8.5"
  }
 },
 "nbformat": 4,
 "nbformat_minor": 4
}
